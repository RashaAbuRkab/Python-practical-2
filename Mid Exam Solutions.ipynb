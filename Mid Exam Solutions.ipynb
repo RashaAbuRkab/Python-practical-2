{
 "cells": [
  {
   "cell_type": "code",
   "execution_count": 2,
   "id": "c5ab0566",
   "metadata": {},
   "outputs": [],
   "source": [
    "import numpy as np\n",
    "import re"
   ]
  },
  {
   "cell_type": "code",
   "execution_count": 4,
   "id": "29019b07",
   "metadata": {
    "scrolled": false
   },
   "outputs": [
    {
     "data": {
      "text/plain": [
       "('AliAhmed8922@hotmail.com \\nNihal.Nael@outlook.com \\nmohammed2022fa@gmail.com',\n",
       " ['hotmail', 'outlook', 'gmail'])"
      ]
     },
     "execution_count": 4,
     "metadata": {},
     "output_type": "execute_result"
    }
   ],
   "source": [
    "# Q1\n",
    "x = \"AliAhmed8922@hotmail.com \\nNihal.Nael@outlook.com \\nmohammed2022fa@gmail.com\"\n",
    "y = re.findall('.*@([^.]*)', x)\n",
    "x,y"
   ]
  },
  {
   "cell_type": "code",
   "execution_count": 7,
   "id": "f74e57f4",
   "metadata": {},
   "outputs": [
    {
     "name": "stdout",
     "output_type": "stream",
     "text": [
      "Not matched!\n",
      "Not matched!\n",
      "Found a match!\n"
     ]
    }
   ],
   "source": [
    "#Q2\n",
    "def text_match(text):\n",
    "        patterns = '^[a-zA-Z0-9_]*$'\n",
    "        if re.search(patterns,  text):\n",
    "                return 'Found a match!'\n",
    "        else:\n",
    "                return('Not matched!')\n",
    "\n",
    "print(text_match(\"The beautiful lady came to the party yesterday\"))\n",
    "print(text_match(\"Symon says_ jump\"))\n",
    "print(text_match(\"Midterm_Exam_24\"))\n"
   ]
  },
  {
   "cell_type": "code",
   "execution_count": 8,
   "id": "c8704ca6",
   "metadata": {},
   "outputs": [
    {
     "name": "stdout",
     "output_type": "stream",
     "text": [
      "[ True False  True  True False  True  True]\n",
      "['sanaa' 'hani' 'farah' 'manal' 'inas']\n",
      "[[70 85 74]\n",
      " [93 89 94]\n",
      " [92 84 82]\n",
      " [72 73 77]\n",
      " [95 92 89]]\n",
      "[3.         3.66666667]\n"
     ]
    }
   ],
   "source": [
    "# Q3\n",
    "names = np.array(['sanaa', 'mohammed', 'hani', 'farah', 'esam', 'manal', 'inas'])\n",
    "grades = np.array([[70,85,74], [40,53,48], [93,89,94], [92,84,82], [42,46,51], [72,73,77], [95,92,89]])\n",
    "results = np.array(['passed', 'failed', 'passed', 'passed', 'failed', 'passed', 'passed'])\n",
    "\n",
    "mask = results == 'passed'\n",
    "print(mask)\n",
    "\n",
    "print(names[mask])\n",
    "print(grades[mask])\n",
    "mask2 = results =='failed'\n",
    "GPAs_failed = grades[mask2,:].sum(axis = 1)/3\n",
    "print(50-GPAs_failed)\n",
    "\n"
   ]
  },
  {
   "cell_type": "code",
   "execution_count": 9,
   "id": "f487c0d5",
   "metadata": {},
   "outputs": [
    {
     "name": "stdout",
     "output_type": "stream",
     "text": [
      "[[ 0  1  2  3]\n",
      " [ 4  5  6  7]\n",
      " [ 8  9 10 11]\n",
      " [12 13 14 15]\n",
      " [16 17 18 19]]\n",
      "66.5\n"
     ]
    },
    {
     "data": {
      "text/plain": [
       "array(66.5)"
      ]
     },
     "execution_count": 9,
     "metadata": {},
     "output_type": "execute_result"
    }
   ],
   "source": [
    "# Q4\n",
    "values = np.arange(20).reshape((5,4))\n",
    "print(values)\n",
    "summ = values.cumsum()\n",
    "meann = summ.mean()\n",
    "print(meann)\n",
    "np.savez('array_archive.npz', a=summ, b=meann)\n",
    "savedd = np.load('array_archive.npz')\n",
    "savedd['b']"
   ]
  },
  {
   "cell_type": "code",
   "execution_count": 11,
   "id": "0caff21a",
   "metadata": {},
   "outputs": [
    {
     "name": "stdout",
     "output_type": "stream",
     "text": [
      "[61.49822002 52.16955039  8.75372272 99.87111344 78.95903372 88.46520031\n",
      " 45.42720443 43.02800139 62.60412221 69.2924935 ]\n",
      "['success' 'success' 'fail' 'success' 'success' 'success' 'fail' 'fail'\n",
      " 'success' 'success']\n",
      "[False False  True False False False  True  True False False]\n"
     ]
    },
    {
     "data": {
      "text/plain": [
       "True"
      ]
     },
     "execution_count": 11,
     "metadata": {},
     "output_type": "execute_result"
    }
   ],
   "source": [
    "# Q5\n",
    "arr = np.random.rand(10)*100\n",
    "print(arr)\n",
    "remainder, whole_part = np.modf(arr)\n",
    "arr = np.where(whole_part>=50 , \"success\",\"fail\")\n",
    "print(arr)\n",
    "fail = np.in1d(arr,\"fail\")\n",
    "print(fail)\n",
    "fail.any()"
   ]
  },
  {
   "cell_type": "code",
   "execution_count": 12,
   "id": "90a75637",
   "metadata": {},
   "outputs": [
    {
     "name": "stdout",
     "output_type": "stream",
     "text": [
      "[[ 0  1  2  3]\n",
      " [ 4  5  6  7]\n",
      " [ 8  9 10 11]\n",
      " [12 13 14 15]]\n",
      "[ 1  2  4  7  8 10 12 14 15]\n"
     ]
    }
   ],
   "source": [
    "# Q6\n",
    "arr = np.arange(16).reshape((4, 4))\n",
    "print(arr)\n",
    "print(arr[[0,0,1,1,2,2,3,3,3],[1,2,0,3,0,2,0,2,3]])"
   ]
  },
  {
   "cell_type": "code",
   "execution_count": 13,
   "id": "134a4d27",
   "metadata": {},
   "outputs": [
    {
     "name": "stdout",
     "output_type": "stream",
     "text": [
      "first: [[0 1 2]]\n",
      "second: [[3 4 5]]\n",
      "third: [[ 6  7  8]\n",
      " [ 9 10 11]]\n",
      "fourth: [[12 13 14]]\n",
      "[[ 6  6  7  7  7  8  8  8  8  8]\n",
      " [ 9  9 10 10 10 11 11 11 11 11]]\n"
     ]
    }
   ],
   "source": [
    "# Q7\n",
    "arr = np.arange(15).reshape((5,3))\n",
    "arr.flatten('F')\n",
    "arr3 = arr.reshape((5, 3),order='C')\n",
    "\n",
    "first, second, third,fourth = np.split(arr, [1,2,4])\n",
    "print(\"first:\",first)\n",
    "print(\"second:\",second)\n",
    "print(\"third:\",third)\n",
    "print(\"fourth:\",fourth)\n",
    "repeated = third.repeat([2, 3, 5], axis= 1)\n",
    "print(repeated)"
   ]
  },
  {
   "cell_type": "code",
   "execution_count": null,
   "id": "a06f0d66",
   "metadata": {},
   "outputs": [],
   "source": []
  }
 ],
 "metadata": {
  "celltoolbar": "Raw Cell Format",
  "kernelspec": {
   "display_name": "Python 3",
   "language": "python",
   "name": "python3"
  },
  "language_info": {
   "codemirror_mode": {
    "name": "ipython",
    "version": 3
   },
   "file_extension": ".py",
   "mimetype": "text/x-python",
   "name": "python",
   "nbconvert_exporter": "python",
   "pygments_lexer": "ipython3",
   "version": "3.8.8"
  }
 },
 "nbformat": 4,
 "nbformat_minor": 5
}
