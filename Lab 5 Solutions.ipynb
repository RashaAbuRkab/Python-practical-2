{
 "cells": [
  {
   "cell_type": "code",
   "execution_count": 135,
   "id": "7e39ea24",
   "metadata": {},
   "outputs": [],
   "source": [
    "import numpy as np"
   ]
  },
  {
   "cell_type": "code",
   "execution_count": 136,
   "id": "4f1594d6",
   "metadata": {},
   "outputs": [
    {
     "name": "stdout",
     "output_type": "stream",
     "text": [
      "[82.62056958 80.07696871 62.9777923  21.6324023  51.82603667 59.72740724\n",
      " 52.50315009 26.0233368  51.52479243 49.11863409]\n",
      "[9.08958578 8.94857356 7.93585486 4.65106464 7.19903026 7.72835087\n",
      " 7.24590575 5.10130736 7.17807721 7.00846874]\n",
      "[9. 8. 7. 4. 7. 7. 7. 5. 7. 7.]\n"
     ]
    }
   ],
   "source": [
    "arr = np.random.rand(10)*100\n",
    "print(arr)\n",
    "print(np.sqrt(arr, arr))\n",
    "remainder, whole_part = np.modf(arr)\n",
    "print(whole_part)"
   ]
  },
  {
   "cell_type": "code",
   "execution_count": 137,
   "id": "e4d797c7",
   "metadata": {},
   "outputs": [
    {
     "name": "stdout",
     "output_type": "stream",
     "text": [
      "[1000    0 1200    0    0  650    0 4560]\n"
     ]
    }
   ],
   "source": [
    "balance = np.array([1000,300,1200,400,180,650,70,4560])\n",
    "balance = np.where(balance<500 , 0,balance)\n",
    "print(balance)"
   ]
  },
  {
   "cell_type": "code",
   "execution_count": 138,
   "id": "89ca765c",
   "metadata": {},
   "outputs": [
    {
     "name": "stdout",
     "output_type": "stream",
     "text": [
      "[[ 0  1  2  3]\n",
      " [ 4  5  6  7]\n",
      " [ 8  9 10 11]\n",
      " [12 13 14 15]\n",
      " [16 17 18 19]]\n",
      "[[ 0  1  2  3]\n",
      " [ 4  6  8 10]\n",
      " [12 15 18 21]\n",
      " [24 28 32 36]\n",
      " [40 45 50 55]]\n",
      "[[    0     0     0     0]\n",
      " [    4    20   120   840]\n",
      " [    8    72   720  7920]\n",
      " [   12   156  2184 32760]\n",
      " [   16   272  4896 93024]]\n",
      "0\n",
      "19\n",
      "5\n"
     ]
    }
   ],
   "source": [
    "values = np.arange(20).reshape((5,4))\n",
    "print(values)\n",
    "print(values.cumsum(axis = 0))\n",
    "prod = values.cumprod(axis = 1)\n",
    "print(prod)\n",
    "print(values.min())\n",
    "print(values.max())\n",
    "print((prod>1000).sum())"
   ]
  },
  {
   "cell_type": "code",
   "execution_count": 139,
   "id": "c0a49fd3",
   "metadata": {},
   "outputs": [
    {
     "name": "stdout",
     "output_type": "stream",
     "text": [
      "[[99.63357758 89.7436148  46.33807482]\n",
      " [62.29373829 74.78716041  3.48651602]\n",
      " [89.49214412 86.01268164 45.74320978]\n",
      " [39.11697661 27.29593749 47.66768283]]\n",
      "[[39.11697661 27.29593749  3.48651602]\n",
      " [62.29373829 74.78716041 45.74320978]\n",
      " [89.49214412 86.01268164 46.33807482]\n",
      " [99.63357758 89.7436148  47.66768283]]\n"
     ]
    }
   ],
   "source": [
    "arr2 = np.random.rand(12).reshape(4,3)*100\n",
    "print(arr2)\n",
    "arr2.sort(0)\n",
    "print(arr2)\n",
    "np.save('saved_arr',arr2)"
   ]
  },
  {
   "cell_type": "code",
   "execution_count": 140,
   "id": "55ecc5de",
   "metadata": {},
   "outputs": [
    {
     "name": "stdout",
     "output_type": "stream",
     "text": [
      "[[23346.34133075 22365.44305625 11882.09295025]\n",
      " [22365.44305625 21790.28536671 11779.70473499]\n",
      " [11882.09295025 11779.70473499  6524.02219956]]\n"
     ]
    }
   ],
   "source": [
    "saved_arr = np.load('saved_arr.npy')\n",
    "print(saved_arr.T.dot(saved_arr))"
   ]
  },
  {
   "cell_type": "code",
   "execution_count": 141,
   "id": "84884877",
   "metadata": {},
   "outputs": [
    {
     "name": "stdout",
     "output_type": "stream",
     "text": [
      "[0 2 3 5 6 7 8 9]\n",
      "[0 8 0 3 9 7 2 2 0 6 0 5]\n"
     ]
    },
    {
     "data": {
      "text/plain": [
       "False"
      ]
     },
     "execution_count": 141,
     "metadata": {},
     "output_type": "execute_result"
    }
   ],
   "source": [
    "arr3 = np.random.rand(12)*10\n",
    "arr3 = arr3.astype(int)\n",
    "arr4 = np.unique(arr3)\n",
    "print(arr4)\n",
    "print(arr3)\n",
    "even = np.in1d(arr4,[0,2,4,6,8])\n",
    "even.all()\n",
    "\n"
   ]
  },
  {
   "cell_type": "code",
   "execution_count": null,
   "id": "57870e06",
   "metadata": {},
   "outputs": [],
   "source": []
  }
 ],
 "metadata": {
  "kernelspec": {
   "display_name": "Python 3",
   "language": "python",
   "name": "python3"
  },
  "language_info": {
   "codemirror_mode": {
    "name": "ipython",
    "version": 3
   },
   "file_extension": ".py",
   "mimetype": "text/x-python",
   "name": "python",
   "nbconvert_exporter": "python",
   "pygments_lexer": "ipython3",
   "version": "3.8.8"
  }
 },
 "nbformat": 4,
 "nbformat_minor": 5
}
