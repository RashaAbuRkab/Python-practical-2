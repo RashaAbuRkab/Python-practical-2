{
 "cells": [
  {
   "cell_type": "code",
   "execution_count": 1,
   "id": "b1f5ed9e",
   "metadata": {},
   "outputs": [],
   "source": [
    "import pandas as pd"
   ]
  },
  {
   "cell_type": "code",
   "execution_count": 6,
   "id": "ca35204a",
   "metadata": {},
   "outputs": [
    {
     "data": {
      "text/plain": [
       "e    NaN\n",
       "b    7.2\n",
       "d    4.5\n",
       "c    3.6\n",
       "a   -5.3\n",
       "dtype: float64"
      ]
     },
     "execution_count": 6,
     "metadata": {},
     "output_type": "execute_result"
    }
   ],
   "source": [
    "obj = pd.Series([4.5, 7.2, -5.3, 3.6], index=['d', 'b', 'a', 'c'])\n",
    "obj2 = obj.reindex(['e', 'b', 'd', 'c', 'a'])\n",
    "obj2"
   ]
  },
  {
   "cell_type": "code",
   "execution_count": 8,
   "id": "f85d606b",
   "metadata": {},
   "outputs": [
    {
     "data": {
      "text/plain": [
       "0    2.0\n",
       "1    3.0\n",
       "2    7.0\n",
       "3    4.0\n",
       "4    5.0\n",
       "5    6.0\n",
       "6    1.0\n",
       "Name: GPAs, dtype: float64"
      ]
     },
     "execution_count": 8,
     "metadata": {},
     "output_type": "execute_result"
    }
   ],
   "source": [
    "data = {'names': ['ahmed', 'mohammed', 'anas', 'foad', 'loay', 'gamal', 'ahmed'],\n",
    " 'ids': ['120215568', '120216874', '120219874', '120214532', '120212258', '120214521', '120217452'],\n",
    " 'GPAs': [89, 77, 52, 60, 58, 54, 92]}\n",
    "frame = pd.DataFrame(data)\n",
    "frame.sort_values(by=['names', 'ids']) \n",
    "frame['GPAs'].rank(ascending=False, method='max')"
   ]
  },
  {
   "cell_type": "code",
   "execution_count": 71,
   "id": "f5f6c90b",
   "metadata": {},
   "outputs": [
    {
     "name": "stdout",
     "output_type": "stream",
     "text": [
      "False\n",
      "c\n"
     ]
    },
    {
     "data": {
      "text/plain": [
       "count    5.000000\n",
       "mean     2.000000\n",
       "std      1.581139\n",
       "min      0.000000\n",
       "25%      1.000000\n",
       "50%      2.000000\n",
       "75%      3.000000\n",
       "max      4.000000\n",
       "dtype: float64"
      ]
     },
     "execution_count": 71,
     "metadata": {},
     "output_type": "execute_result"
    }
   ],
   "source": [
    "obj = pd.Series(range(5), index=['a', 'a', 'b', 'b', 'c'])\n",
    "print(obj.index.is_unique)\n",
    "print(obj.idxmax())\n",
    "obj.describe()"
   ]
  },
  {
   "cell_type": "code",
   "execution_count": 68,
   "id": "9cdefc18",
   "metadata": {},
   "outputs": [
    {
     "name": "stdout",
     "output_type": "stream",
     "text": [
      "7.9\n",
      "0.8717541573048715\n",
      "131     True\n",
      "117     True\n",
      "135     True\n",
      "122     True\n",
      "118     True\n",
      "       ...  \n",
      "41     False\n",
      "42     False\n",
      "38     False\n",
      "8      False\n",
      "13     False\n",
      "Name: Species, Length: 150, dtype: bool\n"
     ]
    },
    {
     "data": {
      "text/plain": [
       "50"
      ]
     },
     "execution_count": 68,
     "metadata": {},
     "output_type": "execute_result"
    }
   ],
   "source": [
    "iris = pd.read_csv('C:/Users/jit/Downloads/archive/iris.csv')\n",
    "print(iris['SepalLengthCm'].max())\n",
    "print(iris['SepalLengthCm'].min())\n",
    "iris = iris.sort_values(ascending = False, by=['SepalLengthCm']) \n",
    "print(iris['SepalLengthCm'].corr(iris['PetalLengthCm']))\n",
    "# iris[\"Species\"].value_counts()\n",
    "mean_data = iris[\"SepalLengthCm\"].mean()\n",
    "len(iris[iris['Species']==\"Iris-virginica\"])"
   ]
  },
  {
   "cell_type": "code",
   "execution_count": null,
   "id": "6a9336ec",
   "metadata": {},
   "outputs": [],
   "source": [
    "ser1[~ser1.isin(ser2)]\n"
   ]
  }
 ],
 "metadata": {
  "kernelspec": {
   "display_name": "Python 3",
   "language": "python",
   "name": "python3"
  },
  "language_info": {
   "codemirror_mode": {
    "name": "ipython",
    "version": 3
   },
   "file_extension": ".py",
   "mimetype": "text/x-python",
   "name": "python",
   "nbconvert_exporter": "python",
   "pygments_lexer": "ipython3",
   "version": "3.8.8"
  }
 },
 "nbformat": 4,
 "nbformat_minor": 5
}
