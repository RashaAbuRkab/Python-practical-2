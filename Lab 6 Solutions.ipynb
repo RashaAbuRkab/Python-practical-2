{
 "cells": [
  {
   "cell_type": "code",
   "execution_count": 2,
   "id": "7b95bf70",
   "metadata": {},
   "outputs": [],
   "source": [
    "import numpy as np"
   ]
  },
  {
   "cell_type": "code",
   "execution_count": 34,
   "id": "c8393b0f",
   "metadata": {
    "scrolled": false
   },
   "outputs": [
    {
     "name": "stdout",
     "output_type": "stream",
     "text": [
      "[[ 0  5 10]\n",
      " [ 1  6 11]\n",
      " [ 2  7 12]\n",
      " [ 3  8 13]\n",
      " [ 4  9 14]]\n"
     ]
    },
    {
     "data": {
      "text/plain": [
       "array([ 0,  5, 10,  1,  6, 11,  2,  7, 12,  3,  8, 13,  4,  9, 14])"
      ]
     },
     "execution_count": 34,
     "metadata": {},
     "output_type": "execute_result"
    }
   ],
   "source": [
    "arr = np.arange(15)\n",
    "arr2 = arr.reshape((5, 3),order='F')\n",
    "print(arr2)\n",
    "arr2.ravel('c')"
   ]
  },
  {
   "cell_type": "code",
   "execution_count": 46,
   "id": "c52a0695",
   "metadata": {},
   "outputs": [
    {
     "name": "stdout",
     "output_type": "stream",
     "text": [
      "[[ 1  2  3]\n",
      " [ 4  5  6]\n",
      " [ 7  8  9]\n",
      " [10 11 12]]\n",
      "first: [[1 2 3]\n",
      " [4 5 6]]\n",
      "second: [[7 8 9]]\n",
      "third: [[10 11 12]]\n"
     ]
    }
   ],
   "source": [
    "arr1 = np.array([[1, 2, 3], [4, 5, 6]])\n",
    "arr2 = np.array([[7, 8, 9], [10, 11, 12]])\n",
    "arr =np.vstack((arr1, arr2))\n",
    "print(arr)\n",
    "first, second, third = np.split(arr, [2, 3])\n",
    "print(\"first:\",first)\n",
    "print(\"second:\",second)\n",
    "print(\"third:\",third)"
   ]
  },
  {
   "cell_type": "code",
   "execution_count": 64,
   "id": "7aa38700",
   "metadata": {},
   "outputs": [
    {
     "name": "stdout",
     "output_type": "stream",
     "text": [
      "[[ 1.89080805 -1.23583153 -0.57088649]\n",
      " [ 1.60120439 -0.02710394  1.1972199 ]\n",
      " [ 0.47423127 -1.46636807 -0.74641497]]\n",
      "\n",
      "\n",
      "[[ 1.89080805 -1.23583153 -0.57088649]\n",
      " [ 1.89080805 -1.23583153 -0.57088649]\n",
      " [ 1.60120439 -0.02710394  1.1972199 ]\n",
      " [ 1.60120439 -0.02710394  1.1972199 ]\n",
      " [ 1.60120439 -0.02710394  1.1972199 ]\n",
      " [ 0.47423127 -1.46636807 -0.74641497]\n",
      " [ 0.47423127 -1.46636807 -0.74641497]\n",
      " [ 0.47423127 -1.46636807 -0.74641497]\n",
      " [ 0.47423127 -1.46636807 -0.74641497]]\n",
      "\n",
      "\n",
      "(9, 6)\n"
     ]
    }
   ],
   "source": [
    "arr = np.random.randn(3,3)\n",
    "print(arr)\n",
    "print(\"\\n\")\n",
    "repeated = arr.repeat([2, 3, 4], axis= 0)\n",
    "print(repeated)\n",
    "tiled = np.tile(arr, (3, 2))\n",
    "print(\"\\n\")\n",
    "print(tiled.shape)"
   ]
  },
  {
   "cell_type": "code",
   "execution_count": 3,
   "id": "400f5c40",
   "metadata": {
    "scrolled": true
   },
   "outputs": [
    {
     "name": "stdout",
     "output_type": "stream",
     "text": [
      "25\n",
      "48\n"
     ]
    }
   ],
   "source": [
    "r = lambda a : a + 15\n",
    "print(r(10))\n",
    "r = lambda x, y : x * y\n",
    "print(r(12, 4))"
   ]
  },
  {
   "cell_type": "code",
   "execution_count": 4,
   "id": "d9759b62",
   "metadata": {
    "scrolled": true
   },
   "outputs": [
    {
     "name": "stdout",
     "output_type": "stream",
     "text": [
      "Double the number of 15 = 30\n",
      "Triple the number of 15 = 45\n",
      "Quadruple the number of 15 = 60\n",
      "Quintuple the number 15 = 75\n"
     ]
    }
   ],
   "source": [
    "def func_compute(n):\n",
    " return lambda x : x * n\n",
    "result = func_compute(2)\n",
    "print(\"Double the number of 15 =\", result(15))\n",
    "result = func_compute(3)\n",
    "print(\"Triple the number of 15 =\", result(15))\n",
    "result = func_compute(4)\n",
    "print(\"Quadruple the number of 15 =\", result(15))\n",
    "result = func_compute(5)\n",
    "print(\"Quintuple the number 15 =\", result(15))"
   ]
  },
  {
   "cell_type": "code",
   "execution_count": null,
   "id": "d78f047b",
   "metadata": {},
   "outputs": [],
   "source": [
    "# Q6) Write a Python program to sort a list of tuples using Lambda. \n",
    "# Original list of tuples:\n",
    "# [('English', 88), ('Science', 90), ('Maths', 97), ('Social sciences', 82)]\n",
    "# Sorting the List of Tuples:\n",
    "# [('Social sciences', 82), ('English', 88), ('Science', 90), ('Maths', 97)]"
   ]
  },
  {
   "cell_type": "code",
   "execution_count": 65,
   "id": "0952efb4",
   "metadata": {},
   "outputs": [],
   "source": [
    "# subject_marks = [('English', 88), ('Science', 90), ('Maths', 97), ('Social sciences', 82)]\n",
    "# print(\"Original list of tuples:\")\n",
    "# print(subject_marks)\n",
    "# subject_marks.sort(key = lambda x: x[1])\n",
    "# print(\"\\nSorting the List of Tuples:\")\n",
    "# print(subject_marks)"
   ]
  },
  {
   "cell_type": "code",
   "execution_count": null,
   "id": "8671dc21",
   "metadata": {},
   "outputs": [],
   "source": []
  }
 ],
 "metadata": {
  "kernelspec": {
   "display_name": "Python 3",
   "language": "python",
   "name": "python3"
  },
  "language_info": {
   "codemirror_mode": {
    "name": "ipython",
    "version": 3
   },
   "file_extension": ".py",
   "mimetype": "text/x-python",
   "name": "python",
   "nbconvert_exporter": "python",
   "pygments_lexer": "ipython3",
   "version": "3.8.8"
  }
 },
 "nbformat": 4,
 "nbformat_minor": 5
}
