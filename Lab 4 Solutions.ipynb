{
 "cells": [
  {
   "cell_type": "code",
   "execution_count": 39,
   "id": "49099bc1",
   "metadata": {},
   "outputs": [],
   "source": [
    "import numpy as np"
   ]
  },
  {
   "cell_type": "code",
   "execution_count": 40,
   "id": "a8d1c3e1",
   "metadata": {},
   "outputs": [
    {
     "name": "stdout",
     "output_type": "stream",
     "text": [
      "[ True  True  True False False False  True]\n",
      "['ahmed' 'mohammed' 'anas' 'saed'] ['120215568' '120216874' '120219874' '120217452'] [[94 85 88]\n",
      " [75 89 91]\n",
      " [92 84 82]\n",
      " [95 92 89]]\n"
     ]
    }
   ],
   "source": [
    "names = np.array(['ahmed', 'mohammed', 'anas', 'foad', 'loay', 'gamal', 'saed'])\n",
    "ids = np.array(['120215568', '120216874', '120219874', '120214532', '120212258', '120214521', '120217452'])\n",
    "grades = np.array([[94,85,88], [75,89,91], [92,84,82], [74,78,81], [72,73,77], [64,82,78], [95,92,89]])\n",
    "GPAs = np.array([89, 85, 86, 77, 74, 74, 92])\n",
    "\n",
    "mask = GPAs >= 85\n",
    "print(mask)\n",
    "\n",
    "print(names[mask],ids[mask],grades[mask])\n",
    "\n",
    "grades[GPAs > 90, 2] = 90\n",
    "\n",
    "grades[grades >= 90] = 100\n"
   ]
  },
  {
   "cell_type": "code",
   "execution_count": 41,
   "id": "5745d416",
   "metadata": {},
   "outputs": [
    {
     "name": "stdout",
     "output_type": "stream",
     "text": [
      "[[ 0  1  2  3]\n",
      " [ 4  5  6  7]\n",
      " [ 8  9 10 11]\n",
      " [12 13 14 15]]\n"
     ]
    }
   ],
   "source": [
    "arr = np.arange(16).reshape((4, 4))\n",
    "print(arr)"
   ]
  },
  {
   "cell_type": "code",
   "execution_count": 42,
   "id": "4008b758",
   "metadata": {},
   "outputs": [
    {
     "data": {
      "text/plain": [
       "array([ 0,  5,  9, 10, 12])"
      ]
     },
     "execution_count": 42,
     "metadata": {},
     "output_type": "execute_result"
    }
   ],
   "source": [
    "arr[[0,1,2,2,3],[0,1,1,2,0]]"
   ]
  },
  {
   "cell_type": "code",
   "execution_count": 43,
   "id": "42743e8c",
   "metadata": {},
   "outputs": [
    {
     "data": {
      "text/plain": [
       "array([[[ 0,  1,  2,  3,  4],\n",
       "        [ 5,  6,  7,  8,  9],\n",
       "        [10, 11, 12, 13, 14]],\n",
       "\n",
       "       [[15, 16, 17, 18, 19],\n",
       "        [20, 21, 22, 23, 24],\n",
       "        [25, 26, 27, 28, 29]]])"
      ]
     },
     "execution_count": 43,
     "metadata": {},
     "output_type": "execute_result"
    }
   ],
   "source": [
    "arr = np.arange(30).reshape((2, 3, 5))\n",
    "arr"
   ]
  },
  {
   "cell_type": "code",
   "execution_count": 44,
   "id": "dc7b0ec8",
   "metadata": {},
   "outputs": [
    {
     "data": {
      "text/plain": [
       "array([[[ 0, 15],\n",
       "        [ 5, 20],\n",
       "        [10, 25]],\n",
       "\n",
       "       [[ 1, 16],\n",
       "        [ 6, 21],\n",
       "        [11, 26]],\n",
       "\n",
       "       [[ 2, 17],\n",
       "        [ 7, 22],\n",
       "        [12, 27]],\n",
       "\n",
       "       [[ 3, 18],\n",
       "        [ 8, 23],\n",
       "        [13, 28]],\n",
       "\n",
       "       [[ 4, 19],\n",
       "        [ 9, 24],\n",
       "        [14, 29]]])"
      ]
     },
     "execution_count": 44,
     "metadata": {},
     "output_type": "execute_result"
    }
   ],
   "source": [
    "arr.transpose((2,1,0))"
   ]
  },
  {
   "cell_type": "code",
   "execution_count": null,
   "id": "10b2abaa",
   "metadata": {},
   "outputs": [],
   "source": []
  }
 ],
 "metadata": {
  "kernelspec": {
   "display_name": "Python 3",
   "language": "python",
   "name": "python3"
  },
  "language_info": {
   "codemirror_mode": {
    "name": "ipython",
    "version": 3
   },
   "file_extension": ".py",
   "mimetype": "text/x-python",
   "name": "python",
   "nbconvert_exporter": "python",
   "pygments_lexer": "ipython3",
   "version": "3.8.8"
  }
 },
 "nbformat": 4,
 "nbformat_minor": 5
}
