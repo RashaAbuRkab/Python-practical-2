{
 "cells": [
  {
   "cell_type": "code",
   "execution_count": 157,
   "id": "8e984949",
   "metadata": {},
   "outputs": [],
   "source": [
    "import numpy as np"
   ]
  },
  {
   "cell_type": "code",
   "execution_count": 158,
   "id": "d54f014f",
   "metadata": {},
   "outputs": [
    {
     "name": "stdout",
     "output_type": "stream",
     "text": [
      "[[11 13 15]\n",
      " [17 19 21]]\n"
     ]
    }
   ],
   "source": [
    "# ex1\n",
    "a = np.array([[1,2,3],\n",
    "              [4,5,6]])\n",
    "\n",
    "b = np.array([[10,11,12],\n",
    "              [13,14,15]])\n",
    "\n",
    "c = a + b\n",
    "\n",
    "print(c)"
   ]
  },
  {
   "cell_type": "code",
   "execution_count": 160,
   "id": "33d67cd9",
   "metadata": {},
   "outputs": [
    {
     "name": "stdout",
     "output_type": "stream",
     "text": [
      "[[2 3 1]\n",
      " [4 2 1]]\n"
     ]
    }
   ],
   "source": [
    "# ex2\n",
    "a = np.array([[2.5, 3.8, 1.5],\n",
    "              [4.7, 2.9, 1.56]])\n",
    "\n",
    "o = a.astype('int')\n",
    "\n",
    "print(o)"
   ]
  },
  {
   "cell_type": "code",
   "execution_count": 161,
   "id": "2f1c9021",
   "metadata": {},
   "outputs": [
    {
     "name": "stdout",
     "output_type": "stream",
     "text": [
      "[[ True False False]\n",
      " [ True  True  True]\n",
      " [False False False]]\n"
     ]
    }
   ],
   "source": [
    "# ex3\n",
    "a = np.array([[1, 0, 0],\n",
    "              [1, 1, 1],\n",
    "              [0, 0, 0]])\n",
    "\n",
    "o = a.astype('bool')\n",
    "\n",
    "print(o)"
   ]
  },
  {
   "cell_type": "code",
   "execution_count": 162,
   "id": "a8b852cb",
   "metadata": {},
   "outputs": [
    {
     "name": "stdout",
     "output_type": "stream",
     "text": [
      "[[5 5 5]\n",
      " [5 5 5]]\n"
     ]
    }
   ],
   "source": [
    "# ex4\n",
    "o = np.full((2, 3), 5)\n",
    "print(o)"
   ]
  },
  {
   "cell_type": "code",
   "execution_count": 163,
   "id": "f0b60d15",
   "metadata": {
    "scrolled": true
   },
   "outputs": [
    {
     "name": "stdout",
     "output_type": "stream",
     "text": [
      "[[[6 3 7 4 6 9 2 6 7 4]\n",
      "  [3 7 7 2 5 4 1 7 5 1]]\n",
      "\n",
      " [[4 0 9 5 8 0 9 2 6 3]\n",
      "  [8 2 4 2 6 4 8 6 1 3]]]\n"
     ]
    }
   ],
   "source": [
    "# ex5\n",
    "np.random.seed(42)\n",
    "M = np.random.randint(10, size=(2,2,10))\n",
    "print(M)"
   ]
  },
  {
   "cell_type": "code",
   "execution_count": 164,
   "id": "c0c76506",
   "metadata": {
    "scrolled": true
   },
   "outputs": [
    {
     "name": "stdout",
     "output_type": "stream",
     "text": [
      "[[4 1]\n",
      " [3 3]]\n"
     ]
    }
   ],
   "source": [
    "s = M[:,:,9]\n",
    "print(s)"
   ]
  },
  {
   "cell_type": "code",
   "execution_count": 165,
   "id": "5d917805",
   "metadata": {},
   "outputs": [
    {
     "name": "stdout",
     "output_type": "stream",
     "text": [
      "[3 7 5 1 5]\n"
     ]
    }
   ],
   "source": [
    "s = M[0,1,::2]\n",
    "print(s)"
   ]
  },
  {
   "cell_type": "code",
   "execution_count": 166,
   "id": "37c00faf",
   "metadata": {
    "scrolled": false
   },
   "outputs": [
    {
     "name": "stdout",
     "output_type": "stream",
     "text": [
      "[[[3 4 9 6 4]\n",
      "  [7 2 4 7 1]]\n",
      "\n",
      " [[0 5 0 2 3]\n",
      "  [2 2 4 6 3]]]\n"
     ]
    }
   ],
   "source": [
    "s = M[:,:,1::2]\n",
    "print(s)"
   ]
  }
 ],
 "metadata": {
  "kernelspec": {
   "display_name": "Python 3",
   "language": "python",
   "name": "python3"
  },
  "language_info": {
   "codemirror_mode": {
    "name": "ipython",
    "version": 3
   },
   "file_extension": ".py",
   "mimetype": "text/x-python",
   "name": "python",
   "nbconvert_exporter": "python",
   "pygments_lexer": "ipython3",
   "version": "3.8.8"
  }
 },
 "nbformat": 4,
 "nbformat_minor": 5
}
