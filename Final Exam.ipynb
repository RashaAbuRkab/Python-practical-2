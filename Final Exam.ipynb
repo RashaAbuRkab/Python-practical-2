{
 "cells": [
  {
   "cell_type": "code",
   "execution_count": 1,
   "id": "55956f1a",
   "metadata": {},
   "outputs": [],
   "source": [
    "import numpy as np\n",
    "import pandas as pd \n",
    "import matplotlib.pyplot as plt"
   ]
  },
  {
   "cell_type": "markdown",
   "id": "fed2f0f6",
   "metadata": {},
   "source": [
    "# Q1"
   ]
  },
  {
   "cell_type": "code",
   "execution_count": 142,
   "id": "91031981",
   "metadata": {},
   "outputs": [
    {
     "data": {
      "image/png": "[encoded data removed]",
      "text/plain": [
       "<Figure size 432x288 with 4 Axes>"
      ]
     },
     "metadata": {
      "needs_background": "light"
     },
     "output_type": "display_data"
    }
   ],
   "source": [
    "x=np.array([1, 2, 3, 4, 5])\n",
    "# making subplots with constrained_layout=True\n",
    "fig, ax = plt.subplots(2, 2, constrained_layout = True)\n",
    "ax[0, 0].plot(x, x,'gd-')\n",
    "ax[0, 1].plot(x, x*2 , 'bx-',linewidth=0.5)\n",
    "ax[1, 0].plot(x, x**2,'^g')\n",
    "ax[1, 1].plot(x, x*x*x,color='k', marker='s', markerfacecolor='r', linestyle='dashdot', linewidth=3)\n",
    "plt.show()"
   ]
  },
  {
   "cell_type": "markdown",
   "id": "c39f399d",
   "metadata": {},
   "source": [
    "# Q2"
   ]
  },
  {
   "cell_type": "code",
   "execution_count": 146,
   "id": "60c7e980",
   "metadata": {},
   "outputs": [
    {
     "data": {
      "text/plain": [
       "0    6.0\n",
       "1    5.0\n",
       "2    1.0\n",
       "3    4.0\n",
       "4    3.0\n",
       "5    2.0\n",
       "6    7.0\n",
       "Name: GPAs, dtype: float64"
      ]
     },
     "execution_count": 146,
     "metadata": {},
     "output_type": "execute_result"
    }
   ],
   "source": [
    "\n",
    "data = {'names': ['saeed', 'mohammed', 'omar', 'bahaa', 'loay', 'jawad', 'mahmmoud'],\n",
    "'ids': ['120215568', '120216874', '120219874', '120214532', '120212258', '120214521',\n",
    "'120217452'],\n",
    "'GPAs': [89, 77, 52, 60, 58, 54, 92]}\n",
    "Data = pd.DataFrame(data)\n",
    "sort_Data = Data.sort_values(['ids','names'])\n",
    "rank = Data.GPAs.rank( )\n",
    "rank"
   ]
  },
  {
   "cell_type": "markdown",
   "id": "323c104a",
   "metadata": {},
   "source": [
    "# Q3"
   ]
  },
  {
   "cell_type": "code",
   "execution_count": 42,
   "id": "321c1994",
   "metadata": {},
   "outputs": [
    {
     "name": "stdout",
     "output_type": "stream",
     "text": [
      "Equals : \n",
      "0    False\n",
      "1     True\n",
      "2    False\n",
      "3    False\n",
      "4    False\n",
      "dtype: bool\n",
      "Greater than :\n",
      "0     True\n",
      "1    False\n",
      "2    False\n",
      "3     True\n",
      "4     True\n",
      "dtype: bool\n",
      "less than : \n",
      "0    False\n",
      "1    False\n",
      "2     True\n",
      "3    False\n",
      "4    False\n",
      "dtype: bool\n"
     ]
    }
   ],
   "source": [
    "ds1 = pd.Series([3, 7, 9, 11, 15])\n",
    "ds2 = pd.Series([2, 7, 11, 9, 6])\n",
    "print('Equals : ')\n",
    "print(ds1 == ds2)\n",
    "print('Greater than :')\n",
    "print(ds1 > ds2)\n",
    "print('less than : ')\n",
    "print(ds1 < ds2)"
   ]
  },
  {
   "cell_type": "markdown",
   "id": "f5793086",
   "metadata": {},
   "source": [
    "# Q4"
   ]
  },
  {
   "cell_type": "code",
   "execution_count": 167,
   "id": "8fcf5b7c",
   "metadata": {},
   "outputs": [
    {
     "name": "stderr",
     "output_type": "stream",
     "text": [
      "C:\\Users\\pc\\AppData\\Local\\Temp/ipykernel_18676/2677508899.py:6: SettingWithCopyWarning: \n",
      "A value is trying to be set on a copy of a slice from a DataFrame\n",
      "\n",
      "See the caveats in the documentation: https://pandas.pydata.org/pandas-docs/stable/user_guide/indexing.html#returning-a-view-versus-a-copy\n",
      "  data_f.GPAs[(data_f.GPAs>70 )& (data_f.GPAs<80)] = 'c'\n"
     ]
    },
    {
     "data": {
      "text/html": [
       "<div>\n",
       "<style scoped>\n",
       "    .dataframe tbody tr th:only-of-type {\n",
       "        vertical-align: middle;\n",
       "    }\n",
       "\n",
       "    .dataframe tbody tr th {\n",
       "        vertical-align: top;\n",
       "    }\n",
       "\n",
       "    .dataframe thead th {\n",
       "        text-align: right;\n",
       "    }\n",
       "</style>\n",
       "<table border=\"1\" class=\"dataframe\">\n",
       "  <thead>\n",
       "    <tr style=\"text-align: right;\">\n",
       "      <th></th>\n",
       "      <th>names</th>\n",
       "      <th>ids</th>\n",
       "      <th>GPAs</th>\n",
       "    </tr>\n",
       "  </thead>\n",
       "  <tbody>\n",
       "    <tr>\n",
       "      <th>0</th>\n",
       "      <td>ahmed</td>\n",
       "      <td>120215568</td>\n",
       "      <td>89</td>\n",
       "    </tr>\n",
       "    <tr>\n",
       "      <th>1</th>\n",
       "      <td>mohammed</td>\n",
       "      <td>120216874</td>\n",
       "      <td>c</td>\n",
       "    </tr>\n",
       "    <tr>\n",
       "      <th>2</th>\n",
       "      <td>anas</td>\n",
       "      <td>120219874</td>\n",
       "      <td>52</td>\n",
       "    </tr>\n",
       "    <tr>\n",
       "      <th>3</th>\n",
       "      <td>foad</td>\n",
       "      <td>120214532</td>\n",
       "      <td>60</td>\n",
       "    </tr>\n",
       "    <tr>\n",
       "      <th>4</th>\n",
       "      <td>loay</td>\n",
       "      <td>120212258</td>\n",
       "      <td>c</td>\n",
       "    </tr>\n",
       "    <tr>\n",
       "      <th>5</th>\n",
       "      <td>gamal</td>\n",
       "      <td>120214521</td>\n",
       "      <td>54</td>\n",
       "    </tr>\n",
       "    <tr>\n",
       "      <th>6</th>\n",
       "      <td>saed</td>\n",
       "      <td>120217452</td>\n",
       "      <td>92</td>\n",
       "    </tr>\n",
       "  </tbody>\n",
       "</table>\n",
       "</div>"
      ],
      "text/plain": [
       "      names        ids GPAs\n",
       "0     ahmed  120215568   89\n",
       "1  mohammed  120216874    c\n",
       "2      anas  120219874   52\n",
       "3      foad  120214532   60\n",
       "4      loay  120212258    c\n",
       "5     gamal  120214521   54\n",
       "6      saed  120217452   92"
      ]
     },
     "execution_count": 167,
     "metadata": {},
     "output_type": "execute_result"
    }
   ],
   "source": [
    "data2 = {'names': ['ahmed', 'mohammed', 'anas', 'foad', 'loay', 'gamal', 'saed'],\n",
    "'ids': ['120215568', '120216874', '120219874', '120214532', '120212258',\n",
    "'120214521', '120217452'],\n",
    "'GPAs': [89, 77, 52, 60, 75, 54, 92]}\n",
    "data_f = pd.DataFrame(data2)\n",
    "data_f.GPAs[(data_f.GPAs>70 )& (data_f.GPAs<80)] = 'c'\n",
    "data_f"
   ]
  },
  {
   "cell_type": "markdown",
   "id": "bacb3613",
   "metadata": {},
   "source": [
    "# Q5"
   ]
  },
  {
   "cell_type": "code",
   "execution_count": 159,
   "id": "6a5a0a6a",
   "metadata": {},
   "outputs": [
    {
     "name": "stdout",
     "output_type": "stream",
     "text": [
      "first :  [[1 2 3 7 8 9]]\n",
      "second :  [[ 4  5  6 10 11 12]]\n"
     ]
    }
   ],
   "source": [
    "arr1 = np.array([[1, 2, 3], [4, 5, 6]])\n",
    "arr2 = np.array([[7, 8, 9], [10, 11, 12]])\n",
    "arr = np.hstack([arr1 , arr2])\n",
    "first , second = np.split(arr , [1])\n",
    "print('first : ' , first)\n",
    "print('second : ' , second)"
   ]
  },
  {
   "cell_type": "markdown",
   "id": "50145197",
   "metadata": {},
   "source": [
    "# Q6 "
   ]
  },
  {
   "cell_type": "code",
   "execution_count": 160,
   "id": "4acef1e7",
   "metadata": {
    "scrolled": true
   },
   "outputs": [
    {
     "name": "stdout",
     "output_type": "stream",
     "text": [
      "[[-1.20221245 -1.54611563 -1.15390751]\n",
      " [-1.20221245 -1.54611563 -1.15390751]\n",
      " [-1.97898817  0.21007045  0.24441474]\n",
      " [-1.97898817  0.21007045  0.24441474]\n",
      " [-1.97898817  0.21007045  0.24441474]\n",
      " [ 1.27773561  0.51862428  0.01132458]\n",
      " [ 1.27773561  0.51862428  0.01132458]\n",
      " [ 1.27773561  0.51862428  0.01132458]\n",
      " [ 1.27773561  0.51862428  0.01132458]]\n",
      "shape :  (9, 3)\n",
      "tile :  (6, 6)\n"
     ]
    }
   ],
   "source": [
    "array = np.random.randn(3,3)\n",
    "repeat = array.repeat([2,3,4] , axis=0)\n",
    "print(repeat)\n",
    "print('shape : ' , repeat.shape)\n",
    "print('tile : ', ((np.tile(array,(2,2))).shape))"
   ]
  },
  {
   "cell_type": "markdown",
   "id": "065cb6ce",
   "metadata": {},
   "source": [
    "# Q7"
   ]
  },
  {
   "cell_type": "code",
   "execution_count": 85,
   "id": "29d4fb59",
   "metadata": {},
   "outputs": [
    {
     "name": "stdout",
     "output_type": "stream",
     "text": [
      "cumulative product : \n",
      "[[    0     1     2     3]\n",
      " [    0     5    12    21]\n",
      " [    0    45   120   231]\n",
      " [    0   585  1680  3465]\n",
      " [    0  9945 30240 65835]]\n",
      "\n",
      "cumulative sum : \n",
      "[[ 0  1  3  6]\n",
      " [ 4  9 15 22]\n",
      " [ 8 17 27 38]\n",
      " [12 25 39 54]\n",
      " [16 33 51 70]]\n",
      "\n",
      "max : 70 min : 0\n",
      "\n",
      "the number of the values :  3\n"
     ]
    }
   ],
   "source": [
    "values = np.arange(20).reshape((5,4)) \n",
    "print('cumulative product : ')\n",
    "cumprod = np.cumprod(values , axis = 0)\n",
    "print(cumprod)\n",
    "print()\n",
    "print('cumulative sum : ')\n",
    "cumsum = np.cumsum(values , axis =1)\n",
    "print(cumsum )\n",
    "print()\n",
    "print('max :', cumsum.max() , 'min :' , cumsum.min() )\n",
    "num = (cumsum[cumsum>50])\n",
    "print()\n",
    "print( 'the number of the values : ',np.size(num))"
   ]
  },
  {
   "cell_type": "markdown",
   "id": "d449e428",
   "metadata": {},
   "source": [
    "# Q8"
   ]
  },
  {
   "cell_type": "code",
   "execution_count": 95,
   "id": "b223c15c",
   "metadata": {},
   "outputs": [
    {
     "name": "stdout",
     "output_type": "stream",
     "text": [
      "the highlighted elements : \n",
      "1 6 7 8 11 15\n"
     ]
    }
   ],
   "source": [
    "arr3 = np.arange(16).reshape((4, 4))\n",
    "print('the highlighted elements : ')\n",
    "print(arr3[0,1] , arr3[1,2] , arr3[1,3] , end = ' ')\n",
    "print(arr3[2,0] , arr3[2,3] , arr3[3,3])"
   ]
  },
  {
   "cell_type": "markdown",
   "id": "cb9dce3a",
   "metadata": {},
   "source": [
    "# Q9"
   ]
  },
  {
   "cell_type": "code",
   "execution_count": 152,
   "id": "8e5b413f",
   "metadata": {},
   "outputs": [
    {
     "data": {
      "text/html": [
       "<div>\n",
       "<style scoped>\n",
       "    .dataframe tbody tr th:only-of-type {\n",
       "        vertical-align: middle;\n",
       "    }\n",
       "\n",
       "    .dataframe tbody tr th {\n",
       "        vertical-align: top;\n",
       "    }\n",
       "\n",
       "    .dataframe thead th {\n",
       "        text-align: right;\n",
       "    }\n",
       "</style>\n",
       "<table border=\"1\" class=\"dataframe\">\n",
       "  <thead>\n",
       "    <tr style=\"text-align: right;\">\n",
       "      <th></th>\n",
       "      <th>Department</th>\n",
       "      <th>Age</th>\n",
       "      <th>Salary</th>\n",
       "    </tr>\n",
       "  </thead>\n",
       "  <tbody>\n",
       "    <tr>\n",
       "      <th>0</th>\n",
       "      <td>Computer Science</td>\n",
       "      <td>33</td>\n",
       "      <td>2350.0</td>\n",
       "    </tr>\n",
       "    <tr>\n",
       "      <th>1</th>\n",
       "      <td>Software Engineering</td>\n",
       "      <td>43</td>\n",
       "      <td>2800.0</td>\n",
       "    </tr>\n",
       "    <tr>\n",
       "      <th>2</th>\n",
       "      <td>Computer Science</td>\n",
       "      <td>5</td>\n",
       "      <td>2712.5</td>\n",
       "    </tr>\n",
       "    <tr>\n",
       "      <th>3</th>\n",
       "      <td>Software Engineering</td>\n",
       "      <td>35</td>\n",
       "      <td>2700.0</td>\n",
       "    </tr>\n",
       "    <tr>\n",
       "      <th>4</th>\n",
       "      <td>Software Engineering</td>\n",
       "      <td>97</td>\n",
       "      <td>2712.5</td>\n",
       "    </tr>\n",
       "    <tr>\n",
       "      <th>5</th>\n",
       "      <td>Computer Science</td>\n",
       "      <td>26</td>\n",
       "      <td>3000.0</td>\n",
       "    </tr>\n",
       "    <tr>\n",
       "      <th>6</th>\n",
       "      <td>SoftwareEngineering</td>\n",
       "      <td>27</td>\n",
       "      <td>2712.5</td>\n",
       "    </tr>\n",
       "  </tbody>\n",
       "</table>\n",
       "</div>"
      ],
      "text/plain": [
       "             Department  Age  Salary\n",
       "0      Computer Science   33  2350.0\n",
       "1  Software Engineering   43  2800.0\n",
       "2      Computer Science    5  2712.5\n",
       "3  Software Engineering   35  2700.0\n",
       "4  Software Engineering   97  2712.5\n",
       "5      Computer Science   26  3000.0\n",
       "6   SoftwareEngineering   27  2712.5"
      ]
     },
     "execution_count": 152,
     "metadata": {},
     "output_type": "execute_result"
    }
   ],
   "source": [
    "data3 = {'Department': ['Computer Science', 'Software Engineering', 'Computer Science',\n",
    "'Software Engineering', 'Software Engineering', 'Computer Science', 'SoftwareEngineering'],\n",
    "'Age': [33, 43, 5, 35, 97, 26, 27],\n",
    "'Salary': [2350, 2800, np.nan, 2700, np.nan, 3000, np.nan]}\n",
    "frame = pd.DataFrame(data3)\n",
    "fillna = frame.fillna(frame.Salary.mean())   \n",
    "fillna"
   ]
  },
  {
   "cell_type": "code",
   "execution_count": 153,
   "id": "842cc81b",
   "metadata": {},
   "outputs": [
    {
     "name": "stderr",
     "output_type": "stream",
     "text": [
      "C:\\Users\\pc\\AppData\\Local\\Temp/ipykernel_18676/58471331.py:5: SettingWithCopyWarning: \n",
      "A value is trying to be set on a copy of a slice from a DataFrame\n",
      "\n",
      "See the caveats in the documentation: https://pandas.pydata.org/pandas-docs/stable/user_guide/indexing.html#returning-a-view-versus-a-copy\n",
      "  age_val[i] = mean\n"
     ]
    },
    {
     "data": {
      "text/html": [
       "<div>\n",
       "<style scoped>\n",
       "    .dataframe tbody tr th:only-of-type {\n",
       "        vertical-align: middle;\n",
       "    }\n",
       "\n",
       "    .dataframe tbody tr th {\n",
       "        vertical-align: top;\n",
       "    }\n",
       "\n",
       "    .dataframe thead th {\n",
       "        text-align: right;\n",
       "    }\n",
       "</style>\n",
       "<table border=\"1\" class=\"dataframe\">\n",
       "  <thead>\n",
       "    <tr style=\"text-align: right;\">\n",
       "      <th></th>\n",
       "      <th>Department</th>\n",
       "      <th>Age</th>\n",
       "      <th>Salary</th>\n",
       "    </tr>\n",
       "  </thead>\n",
       "  <tbody>\n",
       "    <tr>\n",
       "      <th>0</th>\n",
       "      <td>Computer Science</td>\n",
       "      <td>33</td>\n",
       "      <td>2350.0</td>\n",
       "    </tr>\n",
       "    <tr>\n",
       "      <th>1</th>\n",
       "      <td>Software Engineering</td>\n",
       "      <td>43</td>\n",
       "      <td>2800.0</td>\n",
       "    </tr>\n",
       "    <tr>\n",
       "      <th>2</th>\n",
       "      <td>Computer Science</td>\n",
       "      <td>38</td>\n",
       "      <td>2712.5</td>\n",
       "    </tr>\n",
       "    <tr>\n",
       "      <th>3</th>\n",
       "      <td>Software Engineering</td>\n",
       "      <td>35</td>\n",
       "      <td>2700.0</td>\n",
       "    </tr>\n",
       "    <tr>\n",
       "      <th>4</th>\n",
       "      <td>Software Engineering</td>\n",
       "      <td>38</td>\n",
       "      <td>2712.5</td>\n",
       "    </tr>\n",
       "    <tr>\n",
       "      <th>5</th>\n",
       "      <td>Computer Science</td>\n",
       "      <td>26</td>\n",
       "      <td>3000.0</td>\n",
       "    </tr>\n",
       "    <tr>\n",
       "      <th>6</th>\n",
       "      <td>SoftwareEngineering</td>\n",
       "      <td>27</td>\n",
       "      <td>2712.5</td>\n",
       "    </tr>\n",
       "  </tbody>\n",
       "</table>\n",
       "</div>"
      ],
      "text/plain": [
       "             Department  Age  Salary\n",
       "0      Computer Science   33  2350.0\n",
       "1  Software Engineering   43  2800.0\n",
       "2      Computer Science   38  2712.5\n",
       "3  Software Engineering   35  2700.0\n",
       "4  Software Engineering   38  2712.5\n",
       "5      Computer Science   26  3000.0\n",
       "6   SoftwareEngineering   27  2712.5"
      ]
     },
     "execution_count": 153,
     "metadata": {},
     "output_type": "execute_result"
    }
   ],
   "source": [
    "age_val = fillna['Age']\n",
    "mean = age_val.mean()\n",
    "for i in range(len(age_val)):\n",
    "    if (age_val[i] < 20) or (age_val[i] >50) :\n",
    "        age_val[i] = mean\n",
    "fillna['Age'] = age_val \n",
    "fillna"
   ]
  }
 ],
 "metadata": {
  "kernelspec": {
   "display_name": "Python 3 (ipykernel)",
   "language": "python",
   "name": "python3"
  },
  "language_info": {
   "codemirror_mode": {
    "name": "ipython",
    "version": 3
   },
   "file_extension": ".py",
   "mimetype": "text/x-python",
   "name": "python",
   "nbconvert_exporter": "python",
   "pygments_lexer": "ipython3",
   "version": "3.9.7"
  }
 },
 "nbformat": 4,
 "nbformat_minor": 5
}
